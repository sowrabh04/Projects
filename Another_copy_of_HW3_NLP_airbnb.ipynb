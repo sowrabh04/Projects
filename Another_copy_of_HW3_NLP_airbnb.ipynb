{
  "nbformat": 4,
  "nbformat_minor": 0,
  "metadata": {
    "colab": {
      "provenance": [],
      "include_colab_link": true
    },
    "kernelspec": {
      "name": "python3",
      "display_name": "Python 3"
    },
    "language_info": {
      "name": "python"
    }
  },
  "cells": [
    {
      "cell_type": "markdown",
      "metadata": {
        "id": "view-in-github",
        "colab_type": "text"
      },
      "source": [
        "<a href=\"https://colab.research.google.com/github/sowrabh04/Projects/blob/main/Another_copy_of_HW3_NLP_airbnb.ipynb\" target=\"_parent\"><img src=\"https://colab.research.google.com/assets/colab-badge.svg\" alt=\"Open In Colab\"/></a>"
      ]
    },
    {
      "cell_type": "markdown",
      "source": [
        "\\##HW3_NLP using John Snow Labs.\n",
        "\n",
        "*Make sure that you read through the instructions before running the code*\n",
        "\n",
        "John Snow Labs is an application that is built specifically for Spark NLP. You can find more details here (https://nlp.johnsnowlabs.com/) https://sparknlp.org/api/python/user_guide/custom_pipelines.html"
      ],
      "metadata": {
        "id": "6gyv4qXzY0po"
      }
    },
    {
      "cell_type": "markdown",
      "source": [
        "Direct your browser to the Inside Airbnb data depository website at http://insideairbnb.com/get-the-data.html. Scroll down to the ‘Data Downloads’ and make a selection of a city that you would like to investigate. For HW3 you are going to Download the ‘reviews.csv.gz’ file and save it to your computer. You may select the same city you did for the previous HW or choose a new one. NOTE: This code is setup as an analysis on an English language dataset and it might not translate the same into other languages. You might need to use the dataset of an English speaking city for this assignment to run smoothly."
      ],
      "metadata": {
        "id": "izqSrpzqoTli"
      }
    },
    {
      "cell_type": "code",
      "execution_count": null,
      "metadata": {
        "colab": {
          "base_uri": "https://localhost:8080/"
        },
        "id": "4LK0zXuD0Kdv",
        "outputId": "723893bc-7521-4d50-dbd7-2d38ce232ec1"
      },
      "outputs": [
        {
          "output_type": "stream",
          "name": "stdout",
          "text": [
            "--2024-04-08 23:22:56--  http://setup.johnsnowlabs.com/colab.sh\n",
            "Resolving setup.johnsnowlabs.com (setup.johnsnowlabs.com)... 51.158.130.125\n",
            "Connecting to setup.johnsnowlabs.com (setup.johnsnowlabs.com)|51.158.130.125|:80... connected.\n",
            "HTTP request sent, awaiting response... 302 Moved Temporarily\n",
            "Location: https://raw.githubusercontent.com/JohnSnowLabs/spark-nlp/master/scripts/colab_setup.sh [following]\n",
            "--2024-04-08 23:22:56--  https://raw.githubusercontent.com/JohnSnowLabs/spark-nlp/master/scripts/colab_setup.sh\n",
            "Resolving raw.githubusercontent.com (raw.githubusercontent.com)... 185.199.108.133, 185.199.109.133, 185.199.110.133, ...\n",
            "Connecting to raw.githubusercontent.com (raw.githubusercontent.com)|185.199.108.133|:443... connected.\n",
            "HTTP request sent, awaiting response... 200 OK\n",
            "Length: 1191 (1.2K) [text/plain]\n",
            "Saving to: ‘STDOUT’\n",
            "\n",
            "\r-                     0%[                    ]       0  --.-KB/s               Installing PySpark 3.2.3 and Spark NLP 5.3.3\n",
            "setup Colab for PySpark 3.2.3 and Spark NLP 5.3.3\n",
            "\r-                   100%[===================>]   1.16K  --.-KB/s    in 0s      \n",
            "\n",
            "2024-04-08 23:22:56 (89.9 MB/s) - written to stdout [1191/1191]\n",
            "\n",
            "\u001b[2K     \u001b[90m━━━━━━━━━━━━━━━━━━━━━━━━━━━━━━━━━━━━━━━━\u001b[0m \u001b[32m281.5/281.5 MB\u001b[0m \u001b[31m4.3 MB/s\u001b[0m eta \u001b[36m0:00:00\u001b[0m\n",
            "\u001b[?25h  Preparing metadata (setup.py) ... \u001b[?25l\u001b[?25hdone\n",
            "\u001b[2K     \u001b[90m━━━━━━━━━━━━━━━━━━━━━━━━━━━━━━━━━━━━━━━━\u001b[0m \u001b[32m568.4/568.4 kB\u001b[0m \u001b[31m47.5 MB/s\u001b[0m eta \u001b[36m0:00:00\u001b[0m\n",
            "\u001b[2K     \u001b[90m━━━━━━━━━━━━━━━━━━━━━━━━━━━━━━━━━━━━━━━━\u001b[0m \u001b[32m199.7/199.7 kB\u001b[0m \u001b[31m25.7 MB/s\u001b[0m eta \u001b[36m0:00:00\u001b[0m\n",
            "\u001b[?25h  Building wheel for pyspark (setup.py) ... \u001b[?25l\u001b[?25hdone\n"
          ]
        }
      ],
      "source": [
        "# This is to setup PySpark and Spark NLP on Colab\n",
        "!wget http://setup.johnsnowlabs.com/colab.sh -O - | bash"
      ]
    },
    {
      "cell_type": "markdown",
      "source": [
        "This code initiates a spark session through spark-nlp and displays the version of Spark NLP and Spark that is currently running in our notebook."
      ],
      "metadata": {
        "id": "mGfeIuZZZIQO"
      }
    },
    {
      "cell_type": "code",
      "source": [
        "import sparknlp\n",
        "spark = sparknlp.start()\n",
        "\n",
        "print(\"Spark NLP version: {}\".format(sparknlp.version()))\n",
        "print(\"Apache Spark version: {}\".format(spark.version))"
      ],
      "metadata": {
        "colab": {
          "base_uri": "https://localhost:8080/"
        },
        "id": "2c-WHL6c0s_P",
        "outputId": "9a49d13a-4f65-4d0b-bb2d-7476d3e1b77e"
      },
      "execution_count": null,
      "outputs": [
        {
          "output_type": "stream",
          "name": "stdout",
          "text": [
            "Spark NLP version: 5.3.3\n",
            "Apache Spark version: 3.2.3\n"
          ]
        }
      ]
    },
    {
      "cell_type": "markdown",
      "source": [
        "Here you will need to upload your dataset (reviews.csv) that you downloaded from http://insideairbnb.com/get-the-data/ and extracted. This dataset contains the actual reviews of the airbnb stays that we have referenced throughout the other homeworks this semester. Note: In this code I have connected my Google Drive but you may also just [upload your file in the temp folders](https://www.geeksforgeeks.org/ways-to-import-csv-files-in-google-colab/) available in Google colab"
      ],
      "metadata": {
        "id": "flnlubnFZQjF"
      }
    },
    {
      "cell_type": "code",
      "source": [
        "reviewsDF = spark.read.options(mode='FAILFAST',\n",
        "                               header= True, multiline = True, inferSchema=True, escape='\"').csv('/content/reviews.csv')"
      ],
      "metadata": {
        "id": "dW4euh3X1X4r"
      },
      "execution_count": null,
      "outputs": []
    },
    {
      "cell_type": "code",
      "source": [
        "reviewsDF.dtypes"
      ],
      "metadata": {
        "colab": {
          "base_uri": "https://localhost:8080/"
        },
        "id": "JIjrzj37s9nm",
        "outputId": "3845c650-e0a5-42dc-9cc9-0a3464a1f014"
      },
      "execution_count": null,
      "outputs": [
        {
          "output_type": "execute_result",
          "data": {
            "text/plain": [
              "[('listing_id', 'bigint'),\n",
              " ('id', 'bigint'),\n",
              " ('date', 'string'),\n",
              " ('reviewer_id', 'int'),\n",
              " ('reviewer_name', 'string'),\n",
              " ('comments', 'string')]"
            ]
          },
          "metadata": {},
          "execution_count": 10
        }
      ]
    },
    {
      "cell_type": "markdown",
      "source": [
        "This code is something that I did to limit the amount of data that I was using from the dataset. This is to conserve on time sitting at the computer. The more data that you include in your model, the closer that your model will be to the actual topics but is more computationally expensive and will take a lot more time since we are running in a psuedo-spark environment and not an actual cluster computing scenario.\n",
        "\n",
        "Make your choice about how accurate you want to be and how long you want to wait for the code to run."
      ],
      "metadata": {
        "id": "wnaYCiwuo_E2"
      }
    },
    {
      "cell_type": "code",
      "source": [
        "### Split Dataset\n",
        "(extraDF,useDF) = reviewsDF.randomSplit((0.75,0.25),seed=42)"
      ],
      "metadata": {
        "id": "5P3quwPDIK9v"
      },
      "execution_count": null,
      "outputs": []
    },
    {
      "cell_type": "markdown",
      "source": [
        "This is the only data-cleaning that we are going to get into in the current moment and it is assigning our text column to a variable name and cleaning out rows that are missing in the dataset."
      ],
      "metadata": {
        "id": "zFHAY7qqZltO"
      }
    },
    {
      "cell_type": "code",
      "source": [
        "from pyspark.sql import functions as F\n",
        "\n",
        "text_col = 'comments'\n",
        "review_text = useDF.select(\"listing_id\",\"id\",text_col).filter(F.col(text_col).isNotNull())"
      ],
      "metadata": {
        "id": "XRD3hwv32NAj"
      },
      "execution_count": null,
      "outputs": []
    },
    {
      "cell_type": "markdown",
      "source": [
        "##ScreenShot #1 -\n",
        " Take a screen shot of the top 5 comments in your new dataset."
      ],
      "metadata": {
        "id": "8zDPRNVWRNhE"
      }
    },
    {
      "cell_type": "code",
      "source": [
        "review_text.head(5)"
      ],
      "metadata": {
        "colab": {
          "base_uri": "https://localhost:8080/"
        },
        "id": "ehH7o0eH4Ioe",
        "outputId": "72868b60-3674-4c84-a96d-4ccb71b91dc3"
      },
      "execution_count": null,
      "outputs": [
        {
          "output_type": "execute_result",
          "data": {
            "text/plain": [
              "[Row(listing_id=2115, id=198932959, comments='A perfect place and host, thank you for the wonderful experience.'),\n",
              " Row(listing_id=2115, id=338964859, comments=\"A beautiful and clean Airbnb. Was greeted by Helen, the owner who very kindly let us check in early(8.20am) even though it was stated check in time was 2pm. Explained and showed us where everything was. Bed was comfortable and very clean. Rooms were spacious, tidy and clean. Good selection of breakfast to choose from. Cookies were delicious and that's why we emptied out the jar. Really liked this place and would strongly recommend it to anyone.\"),\n",
              " Row(listing_id=2115, id=409896853, comments='Great place to stay, fantastic location south of the river in a quiet neighbourhood.'),\n",
              " Row(listing_id=2115, id=412993811, comments='Great peaceful location, loved the sight and sound of the parrots in the morning. There is a wonderful park just across the road. You have the the option of nearby buses or trains to and from Perth City. The public transport system is superb. Helen was a great host and the accommodation is of a high standard. It was great to have a balcony in the morning to have breakfast overlooking the park. Perth city centre is a short distance away.'),\n",
              " Row(listing_id=2115, id=482834638, comments='Thank you Helen for having Beau and myself, we both thoroughly loved it, felt like home, clean , comfy, fantastic location and just a great experience given this is the first time we have done this, we would recommend this stay for anyone who wanted the sale experience. <br/>We will be back again <br/>Thank you')]"
            ]
          },
          "metadata": {},
          "execution_count": 13
        }
      ]
    },
    {
      "cell_type": "markdown",
      "source": [
        "#NLP Pipeline Construction\n",
        "\n",
        "Here we are beginning to create our pipeline for Natural Language Processing. Be mindful of all of your Input and Output columns as the order is important when fitting the model on the data and running our model.\n"
      ],
      "metadata": {
        "id": "fj5n_MFuaMTr"
      }
    },
    {
      "cell_type": "markdown",
      "source": [
        "###Document Assembly -\n",
        "The Document Assembler takes the raw text data and converts it into a format that can be tokenized. It becomes one of spark-nlp native object types, the \"Document\"."
      ],
      "metadata": {
        "id": "2e6Et0rfa9Rj"
      }
    },
    {
      "cell_type": "code",
      "source": [
        "from sparknlp.base import DocumentAssembler\n",
        "documentAssembler = DocumentAssembler().setInputCol(text_col).setOutputCol('document')"
      ],
      "metadata": {
        "id": "Yrh8yVFP2cMX"
      },
      "execution_count": null,
      "outputs": []
    },
    {
      "cell_type": "markdown",
      "source": [
        "# Tokenizer -\n",
        "\n",
        "The Tokenizer takes data that is of the \"Document\" type and tokenizes it. While slightly more involved than this, this is effectively taking a string and splitting it along with spaces, so each word is its own string. The data then becomes the spark-nlp native type \"Token\"."
      ],
      "metadata": {
        "id": "qpHLfn6JbJ-U"
      }
    },
    {
      "cell_type": "code",
      "source": [
        "from sparknlp.annotator import Tokenizer\n",
        "tokenizer = Tokenizer().setInputCols(['document']).setOutputCol('tokenized')"
      ],
      "metadata": {
        "id": "qZ7iF4y12ha-"
      },
      "execution_count": null,
      "outputs": []
    },
    {
      "cell_type": "markdown",
      "source": [
        "# Normalizer -\n",
        "\n",
        "The normalizer will group words together based on similar semantic meaning."
      ],
      "metadata": {
        "id": "zhDzOMtBbf5g"
      }
    },
    {
      "cell_type": "code",
      "source": [
        "from sparknlp.annotator import Normalizer\n",
        "normalizer = Normalizer().setInputCols(['tokenized']).setOutputCol('normalized').setLowercase(True)"
      ],
      "metadata": {
        "id": "7wAerrga2qpg"
      },
      "execution_count": null,
      "outputs": []
    },
    {
      "cell_type": "markdown",
      "source": [
        "#Lemmatizer -\n",
        "In lemmatization we are going to reduce a given word to its root word.\n",
        "\n",
        "There are two options in doing this in most NLP applications you will see either Lemmatizing or Stemming. For a brief discussion of both see (https://towardsdatascience.com/stemming-vs-lemmatization-2daddabcb221)\n",
        "\n"
      ],
      "metadata": {
        "id": "_fqB12hFbuo5"
      }
    },
    {
      "cell_type": "code",
      "source": [
        "from sparknlp.annotator import LemmatizerModel\n",
        "lemmatizer = LemmatizerModel.pretrained().setInputCols(['normalized']).setOutputCol('lemmatized')"
      ],
      "metadata": {
        "colab": {
          "base_uri": "https://localhost:8080/"
        },
        "id": "pxI8YA5U2yyL",
        "outputId": "0b0c71a7-4b4d-4984-c7d1-ee98ce65693e"
      },
      "execution_count": null,
      "outputs": [
        {
          "output_type": "stream",
          "name": "stdout",
          "text": [
            "lemma_antbnc download started this may take some time.\n",
            "Approximate size to download 907.6 KB\n",
            "[OK!]\n"
          ]
        }
      ]
    },
    {
      "cell_type": "markdown",
      "source": [
        "#Stop Words -\n",
        "The purpose of this stage is to remove words that are too common to the English language that they do not add value to an analysis."
      ],
      "metadata": {
        "id": "kdxoCeEPczic"
      }
    },
    {
      "cell_type": "code",
      "source": [
        "# Import the required modules and classes\n",
        "from sparknlp.base import DocumentAssembler, Pipeline\n",
        "from sparknlp.annotator import (\n",
        "    SentenceDetector,\n",
        "    Tokenizer,\n",
        "    StopWordsCleaner)\n",
        "\n",
        "# Step 3: Performs stopwords cleaning\n",
        "stop_words = (\n",
        "    StopWordsCleaner().pretrained(\"stopwords_iso\",\"en\")\n",
        "    .setInputCols([\"lemmatized\"])\n",
        "    .setOutputCol(\"unigrams\")\n",
        ")"
      ],
      "metadata": {
        "colab": {
          "base_uri": "https://localhost:8080/"
        },
        "id": "Vsq0MzSytNjZ",
        "outputId": "c8e39eb4-e415-4991-a0ef-357596f7d4e4"
      },
      "execution_count": null,
      "outputs": [
        {
          "output_type": "stream",
          "name": "stdout",
          "text": [
            "stopwords_iso download started this may take some time.\n",
            "Approximate size to download 2.1 KB\n",
            "[OK!]\n"
          ]
        }
      ]
    },
    {
      "cell_type": "code",
      "source": [
        "import nltk\n",
        "nltk.download('stopwords')\n",
        "from nltk.corpus import stopwords\n",
        "\n",
        "# Get English stop words list\n",
        "eng_stopwords = stopwords.words('english')\n"
      ],
      "metadata": {
        "colab": {
          "base_uri": "https://localhost:8080/"
        },
        "id": "4Ek8fZrIIgR6",
        "outputId": "52445b8b-c972-4bd8-eaca-0d237ddcbd70"
      },
      "execution_count": null,
      "outputs": [
        {
          "output_type": "stream",
          "name": "stderr",
          "text": [
            "[nltk_data] Downloading package stopwords to /root/nltk_data...\n",
            "[nltk_data]   Unzipping corpora/stopwords.zip.\n"
          ]
        }
      ]
    },
    {
      "cell_type": "code",
      "source": [
        "from sparknlp.annotator import StopWordsCleaner\n",
        "\n",
        "stopwords_cleaner = StopWordsCleaner().setInputCols(['lemmatized']).setOutputCol('unigrams').setStopWords(eng_stopwords)"
      ],
      "metadata": {
        "id": "nwQ9VGqP2_OY"
      },
      "execution_count": null,
      "outputs": []
    },
    {
      "cell_type": "markdown",
      "source": [
        "#NGram Generator\n",
        "The NGramGenerator converts the input array of strings into an array of n-grams (annotatorType CHUNK). It returns an array of n-grams where each n-gram is represented by a space-separated string of words."
      ],
      "metadata": {
        "id": "q0JZjkEZd146"
      }
    },
    {
      "cell_type": "code",
      "source": [
        "from sparknlp.annotator import NGramGenerator\n",
        "\n",
        "ngrammer = NGramGenerator() \\\n",
        "    .setInputCols(['lemmatized']) \\\n",
        "    .setOutputCol('ngrams') \\\n",
        "    .setN(3) \\\n",
        "    .setEnableCumulative(True) \\\n",
        "    .setDelimiter('_')"
      ],
      "metadata": {
        "id": "oJ9bknLg6A4U"
      },
      "execution_count": null,
      "outputs": []
    },
    {
      "cell_type": "markdown",
      "source": [
        "These next two cells (pos_tagger [link text](https://nlp.johnsnowlabs.com/docs/en/annotators#postagger-part-of-speech-tagger/) and [chunker](https://https://nlp.johnsnowlabs.com/docs/en/annotators#chunker)) are modification transformers to try to keep only relevant parts-of-speech with our n-grams. Meaning we would keep Adj + Noun (great house) and drop Prep + Adj (for everyone)"
      ],
      "metadata": {
        "id": "8AE_6TnZgE9L"
      }
    },
    {
      "cell_type": "code",
      "source": [
        "from sparknlp.annotator import PerceptronModel\n",
        "pos_tagger = PerceptronModel.pretrained('pos_anc').setInputCols(['document', 'lemmatized']).setOutputCol('pos')"
      ],
      "metadata": {
        "colab": {
          "base_uri": "https://localhost:8080/"
        },
        "id": "P1pWmbcu3zNw",
        "outputId": "1ce5a1f6-ca81-4ddc-a495-ea49765becfe"
      },
      "execution_count": null,
      "outputs": [
        {
          "output_type": "stream",
          "name": "stdout",
          "text": [
            "pos_anc download started this may take some time.\n",
            "Approximate size to download 3.9 MB\n",
            "[OK!]\n"
          ]
        }
      ]
    },
    {
      "cell_type": "code",
      "source": [
        "from sparknlp.annotator import Chunker\n",
        "allowed_tags = ['<JJ>+<NN>', '<NN>+<NN>']\n",
        "chunker = Chunker().setInputCols(['document', 'pos']).setOutputCol('ngrams').setRegexParsers(allowed_tags)"
      ],
      "metadata": {
        "id": "9MMPF6o431mg"
      },
      "execution_count": null,
      "outputs": []
    },
    {
      "cell_type": "markdown",
      "source": [
        "# The Finisher -\n",
        "Helps the end user by transforming the processed data in the annotation format of Spark NLP into a “human-readable” format"
      ],
      "metadata": {
        "id": "-IHg4oSyhTb3"
      }
    },
    {
      "cell_type": "code",
      "source": [
        "from sparknlp.base import Finisher\n",
        "finisher = Finisher().setInputCols(['unigrams','ngrams'])"
      ],
      "metadata": {
        "id": "5M241pfU35r6"
      },
      "execution_count": null,
      "outputs": []
    },
    {
      "cell_type": "markdown",
      "source": [
        "## Pipeline - Creating and Running"
      ],
      "metadata": {
        "id": "zPADKm08hp1Y"
      }
    },
    {
      "cell_type": "code",
      "source": [
        "from pyspark.ml import Pipeline\n",
        "pipeline1 = Pipeline().setStages([documentAssembler,\n",
        "                 tokenizer,\n",
        "                 normalizer,\n",
        "                 lemmatizer,\n",
        "                 stopwords_cleaner,\n",
        "                 pos_tagger,\n",
        "                 chunker,\n",
        "                 finisher])"
      ],
      "metadata": {
        "id": "JqoHn_nD38YQ"
      },
      "execution_count": null,
      "outputs": []
    },
    {
      "cell_type": "code",
      "source": [
        "from pyspark.ml import Pipeline\n",
        "pipeline = Pipeline().setStages([documentAssembler,\n",
        "                 tokenizer,\n",
        "                 normalizer,\n",
        "                 lemmatizer,\n",
        "                 stop_words,\n",
        "                 pos_tagger,\n",
        "                 chunker,\n",
        "                 finisher])"
      ],
      "metadata": {
        "id": "zphAtRrqu6AI"
      },
      "execution_count": null,
      "outputs": []
    },
    {
      "cell_type": "code",
      "source": [
        "processed_review = pipeline.fit(review_text).transform(review_text)\n"
      ],
      "metadata": {
        "id": "YIv0YmAl3-qu"
      },
      "execution_count": null,
      "outputs": []
    },
    {
      "cell_type": "markdown",
      "source": [
        "\n",
        "These next steps here are going to be processing the output of reviews that have gone through your pipeline and are now going to be accessible for the LDA process.\n",
        "\n"
      ],
      "metadata": {
        "id": "kTkXYLqehy7W"
      }
    },
    {
      "cell_type": "code",
      "source": [
        "processed_review.limit(5).show()\n"
      ],
      "metadata": {
        "colab": {
          "base_uri": "https://localhost:8080/"
        },
        "id": "BKc622GA4AeP",
        "outputId": "3008ece2-aca8-4b24-8f30-5a58e42e49fa"
      },
      "execution_count": null,
      "outputs": [
        {
          "output_type": "stream",
          "name": "stdout",
          "text": [
            "+----------+---------+--------------------+--------------------+--------------------+\n",
            "|listing_id|       id|            comments|   finished_unigrams|     finished_ngrams|\n",
            "+----------+---------+--------------------+--------------------+--------------------+\n",
            "|      2115|198932959|A perfect place a...|[perfect, place, ...|[perfect place, w...|\n",
            "|      2115|338964859|A beautiful and c...|[beautiful, clean...|[spacious, tidy, ...|\n",
            "|      2115|409896853|Great place to st...|[great, place, st...|[Great place, fan...|\n",
            "|      2115|412993811|Great peaceful lo...|[great, peaceful,...|[Great peaceful l...|\n",
            "|      2115|482834638|Thank you Helen f...|[thank, helen, be...|[fantastic locati...|\n",
            "+----------+---------+--------------------+--------------------+--------------------+\n",
            "\n"
          ]
        }
      ]
    },
    {
      "cell_type": "code",
      "source": [
        "from pyspark.sql.functions import concat\n",
        "processed_review = processed_review.withColumn('final',\n",
        "     concat(F.col('finished_unigrams'),\n",
        "            F.col('finished_ngrams')))\n",
        "\n"
      ],
      "metadata": {
        "id": "tsZR-Zvx60jr"
      },
      "execution_count": null,
      "outputs": []
    },
    {
      "cell_type": "markdown",
      "source": [
        "#ScreenShot #2 -\n",
        "\n",
        "Take a screenshot of the final line of unigrams and n-grams that will be going into the CountVectorizer."
      ],
      "metadata": {
        "id": "uO96TU06rx1R"
      }
    },
    {
      "cell_type": "code",
      "source": [
        "processed_review.select('final').limit(5).show(truncate=90)"
      ],
      "metadata": {
        "colab": {
          "base_uri": "https://localhost:8080/"
        },
        "id": "CJ8kNKkN7FNt",
        "outputId": "96f39dd4-dedc-4972-9278-6c05fd7c33dd"
      },
      "execution_count": null,
      "outputs": [
        {
          "output_type": "stream",
          "name": "stdout",
          "text": [
            "+------------------------------------------------------------------------------------------+\n",
            "|                                                                                     final|\n",
            "+------------------------------------------------------------------------------------------+\n",
            "| [perfect, place, host, thank, wonderful, experience, perfect place, wonderful experience]|\n",
            "|[beautiful, clean, airbnb, greet, helen, owner, kindly, let, check, earlyam, state, che...|\n",
            "|[great, place, stay, fantastic, location, south, river, quiet, neighbourhood, Great pla...|\n",
            "|[great, peaceful, location, love, sight, sound, parrot, morning, wonderful, park, road,...|\n",
            "|[thank, helen, beau, thoroughly, love, feel, like, home, clean, comfy, fantastic, locat...|\n",
            "+------------------------------------------------------------------------------------------+\n",
            "\n"
          ]
        }
      ]
    },
    {
      "cell_type": "markdown",
      "source": [
        "# Count Vectorizer\n",
        "\n",
        "Vectorizing our text data means that we are converting our words and in this model combination of words (n-grams) and making them into numbers based on their location in the doccument. This helps in finding our term frequency-inverse document frequency (tf-idf)\n",
        "https://spark.apache.org/docs/latest/ml-features#countvectorizer\n",
        "\n",
        "*Note: Depending on the size of the dataset that you are running this on, this next step of fitting the model and transforming the dataframe will take up to half an hour so be mindful before you run this next cell. *"
      ],
      "metadata": {
        "id": "WgWG83tqU0EK"
      }
    },
    {
      "cell_type": "code",
      "source": [
        "from pyspark.ml.feature import CountVectorizer\n",
        "\n",
        "tfizer = CountVectorizer(inputCol='final', outputCol='tf_features')\n",
        "tf_model = tfizer.fit(processed_review)\n",
        "tf_result = tf_model.transform(processed_review)"
      ],
      "metadata": {
        "id": "bMrLNksY7Uzu"
      },
      "execution_count": null,
      "outputs": []
    },
    {
      "cell_type": "markdown",
      "source": [
        "This next piece of code is performing the tf_idf process (https://naturale0.github.io/2021/02/14/LDA-1-background-topic-modelling#tf-idf-matrix) on our vectorized text corpus or all of the reviews are now numberized and this code is looking at the relationships between each of the values.\n",
        "\n",
        "*Note: Give time for this chunk as well as this section will take around 20 mins or so.*"
      ],
      "metadata": {
        "id": "w9dswJEObaj3"
      }
    },
    {
      "cell_type": "code",
      "source": [
        "from pyspark.ml.feature import IDF\n",
        "\n",
        "idfizer = IDF(inputCol='tf_features', outputCol='tf_idf_features')\n",
        "idf_model = idfizer.fit(tf_result)\n",
        "tfidf_result = idf_model.transform(tf_result)"
      ],
      "metadata": {
        "id": "J0oaEm2V7LI5"
      },
      "execution_count": null,
      "outputs": []
    },
    {
      "cell_type": "markdown",
      "source": [
        "#Latent Dirchlet Allocation (LDA)\n",
        "![topicmodels.jpeg](data:image/jpeg;base64,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)\n",
        "\n"
      ],
      "metadata": {
        "id": "M4zpeQB4ZGoo"
      }
    },
    {
      "cell_type": "markdown",
      "source": [
        "LDA is a generative model that assumes that documents are represented by a distribution of topics and topics are represented by a distribution of words. Given the TF-IDF scores for the vocabulary, LDA can identify the predefined number of topics within the data.\n",
        "\n",
        "**CHANGE THE NUMBER OF TOPICS** from the number in this code.\n",
        "\n",
        "You can change the number of topics as you need to depending on the dataset and there are several methods and philopsophies on doing this. This is one of many packages that will evaluate topics (https://github.com/mind-Lab/octis)\n",
        "\n",
        "*Note: This next portion is also going to take around 20 minutes to complete depending on your dataset.*"
      ],
      "metadata": {
        "id": "bFFFTwjHv8JB"
      }
    },
    {
      "cell_type": "code",
      "source": [
        "from pyspark.ml.clustering import LDA\n",
        "\n",
        "num_topics = 12. # you can change this to any number of topics that you think might be in the dataset.\n",
        "max_iter = 10\n",
        "\n",
        "lda = LDA(k=num_topics, maxIter=max_iter, featuresCol='tf_idf_features')\n",
        "lda_model = lda.fit(tfidf_result)"
      ],
      "metadata": {
        "id": "dDCp5Q-B7QVl"
      },
      "execution_count": null,
      "outputs": []
    },
    {
      "cell_type": "code",
      "source": [
        "from pyspark.sql import types as T\n",
        "\n",
        "vocab = tf_model.vocabulary\n",
        "\n",
        "def get_words(token_list):\n",
        "     return [vocab[token_id] for token_id in token_list]\n",
        "\n",
        "udf_to_words = F.udf(get_words, T.ArrayType(T.StringType()))"
      ],
      "metadata": {
        "id": "fQTGjQGLGwnJ"
      },
      "execution_count": null,
      "outputs": []
    },
    {
      "cell_type": "markdown",
      "source": [
        "#Screen Shot #3 -\n",
        "\n",
        "This is the top 10 words of your LDA model topics. Take a screenshot of the words and see if you can assign names for the different topics as you understand them based on the words in your printout. If you would like to see more words from each topic then change the 'num_top_words' variable."
      ],
      "metadata": {
        "id": "fRLcRRBjFZd-"
      }
    },
    {
      "cell_type": "code",
      "source": [
        "from os import truncate\n",
        "num_top_words = 10\n",
        "\n",
        "topics = lda_model.describeTopics(num_top_words).withColumn('topicWords', udf_to_words(F.col('termIndices')))\n",
        "topics.select('topic', 'topicWords').show(truncate=False)\n",
        "\n"
      ],
      "metadata": {
        "id": "_IjR7KGNG1aS",
        "colab": {
          "base_uri": "https://localhost:8080/"
        },
        "outputId": "a5dbcc8f-52aa-47ee-a264-a2f6f2c890eb"
      },
      "execution_count": null,
      "outputs": [
        {
          "output_type": "stream",
          "name": "stderr",
          "text": [
            "/usr/local/lib/python3.10/dist-packages/pyspark/sql/context.py:125: FutureWarning: Deprecated in 3.0.0. Use SparkSession.builder.getOrCreate() instead.\n",
            "  warnings.warn(\n"
          ]
        },
        {
          "output_type": "stream",
          "name": "stdout",
          "text": [
            "+-----+-----------------------------------------------------------------------------------------------------------+\n",
            "|topic|topicWords                                                                                                 |\n",
            "+-----+-----------------------------------------------------------------------------------------------------------+\n",
            "|0    |[place, house, great, stay, fab, thank, host, comfortable accommodation, beautiful, location]              |\n",
            "|1    |[great, stay, location, beautiful, place, house, lovely, apartment, love, walk]                            |\n",
            "|2    |[en, home, house, een, stay, great, awesome, lovely, place, city center]                                   |\n",
            "|3    |[und, de, et, sehr, die, ist, wir, la, war, est]                                                           |\n",
            "|4    |[excellent location, Great value, good, great, house, good place, place, location, Good place, stay]       |\n",
            "|5    |[Awesome place, Wonderful place, place, stay, Excellent place, Nice house, enjoy, awesome, great, house]   |\n",
            "|6    |[stay, place, great, house, clean, location, lovely, host, home, need]                                     |\n",
            "|7    |[Nice place, nice, place, stay, b, host, view, great, house, perfect stay]                                 |\n",
            "|8    |[place, great, Great place, Great accommodation, nice, stay, Amazing stay, e, nice location, accommodation]|\n",
            "|9    |[stay, dirty, place, nice, host, okay, bed, great, need, recommend]                                        |\n",
            "|10   |[Great location, great, location, lovely, stay, sharon, close, host, house, good]                          |\n",
            "|11   |[stay, place, host, anna, house, lovely, clean, home, comfortable, great]                                  |\n",
            "+-----+-----------------------------------------------------------------------------------------------------------+\n",
            "\n"
          ]
        }
      ]
    },
    {
      "cell_type": "markdown",
      "source": [
        "The following is another way of looking at the dataset with topicDistributions..."
      ],
      "metadata": {
        "id": "9cIpuXhdjJxB"
      }
    },
    {
      "cell_type": "code",
      "source": [
        "# Shows the result\n",
        "transformed = lda_model.transform(tfidf_result)\n",
        "transformed.show(20)\n",
        "#transformed.filter(transformed.listing_id=='69352').show(10)"
      ],
      "metadata": {
        "colab": {
          "base_uri": "https://localhost:8080/"
        },
        "id": "UvClmy5RlD4I",
        "outputId": "7d78ced2-d571-49d7-cc17-4d00a13ded57"
      },
      "execution_count": null,
      "outputs": [
        {
          "output_type": "stream",
          "name": "stdout",
          "text": [
            "+----------+------------------+--------------------+--------------------+--------------------+--------------------+--------------------+--------------------+--------------------+\n",
            "|listing_id|                id|            comments|   finished_unigrams|     finished_ngrams|               final|         tf_features|     tf_idf_features|   topicDistribution|\n",
            "+----------+------------------+--------------------+--------------------+--------------------+--------------------+--------------------+--------------------+--------------------+\n",
            "|      2115|         198932959|A perfect place a...|[perfect, place, ...|[perfect place, w...|[perfect, place, ...|(262144,[2,6,13,2...|(262144,[2,6,13,2...|[0.00292844839637...|\n",
            "|      2115|         338964859|A beautiful and c...|[beautiful, clean...|[spacious, tidy, ...|[beautiful, clean...|(262144,[2,4,8,10...|(262144,[2,4,8,10...|[0.05888461616633...|\n",
            "|      2115|         409896853|Great place to st...|[great, place, st...|[Great place, fan...|[great, place, st...|(262144,[0,1,2,3,...|(262144,[0,1,2,3,...|[0.00203276562675...|\n",
            "|      2115|         412993811|Great peaceful lo...|[great, peaceful,...|[Great peaceful l...|[great, peaceful,...|(262144,[1,3,6,17...|(262144,[1,3,6,17...|[2.94868913941559...|\n",
            "|      2115|         482834638|Thank you Helen f...|[thank, helen, be...|[fantastic locati...|[thank, helen, be...|(262144,[0,1,3,4,...|(262144,[0,1,3,4,...|[7.26555522027219...|\n",
            "|      2115|         641250788|Helens place has ...|[helens, place, s...|[separate stairca...|[helens, place, s...|(262144,[0,2,6,8,...|(262144,[0,2,6,8,...|[1.51428859512855...|\n",
            "|      2115|         668943767|We loved our stay...|[love, stay, hele...|[central location...|[love, stay, hele...|(262144,[0,2,3,4,...|(262144,[0,2,3,4,...|[6.64713245033482...|\n",
            "|      2115|         736012630|Highly recommende...|[highly, recommen...|[excellent select...|[highly, recommen...|(262144,[2,4,8,11...|(262144,[2,4,8,11...|[9.40745366538686...|\n",
            "|      2115|         736896597|Helen was very fr...|[helen, friendly,...|                  []|[helen, friendly,...|(262144,[11,34,36...|(262144,[11,34,36...|[0.00338951773216...|\n",
            "|      2115|         742053862|Helen’ place is s...|[helen, place, st...|[front door, Supe...|[helen, place, st...|(262144,[0,2,4,6,...|(262144,[0,2,4,6,...|[4.93329791187376...|\n",
            "|      2115|         751107001|Those added littl...|[add, little, ext...|[little extras, e...|[add, little, ext...|(262144,[0,21,25,...|(262144,[0,21,25,...|[0.00178662386683...|\n",
            "|      2115|         754532842|Lovely accomodati...|[lovely, accomoda...|[Lovely accomodat...|[lovely, accomoda...|(262144,[1,6,7,20...|(262144,[1,6,7,20...|[0.00157510896991...|\n",
            "|      2115|         765785701|Really lovely hos...|[lovely, host, ve...|[lovely host, goo...|[lovely, host, ve...|(262144,[0,3,6,7,...|(262144,[0,3,6,7,...|[7.02752080583213...|\n",
            "|      2115|         769512503|Once again was no...|[disappointed, li...|        [little jem]|[disappointed, li...|(262144,[2,8,25,2...|(262144,[2,8,25,2...|[0.00175564247978...|\n",
            "|      2115|387951538775259606|Helen hosted a wo...|[helen, host, won...|[wonderful stay, ...|[helen, host, won...|(262144,[0,4,6,7,...|(262144,[0,4,6,7,...|[4.96620271770673...|\n",
            "|      2115|395931719545197824|Lovely stay defin...|[lovely, stay, de...|       [Lovely stay]|[lovely, stay, de...|(262144,[0,7,20,5...|(262144,[0,7,20,5...|[0.00434374108108...|\n",
            "|      2115|401053619558097753|We really enjoyed...|[enjoy, appoint, ...| [kind host. <br/>W]|[enjoy, appoint, ...|(262144,[0,4,6,9,...|(262144,[0,4,6,9,...|[0.00105798379664...|\n",
            "|      2115|408309413970386154|Perfect place to ...|[perfect, place, ...|     [Perfect place]|[perfect, place, ...|(262144,[0,2,13,2...|(262144,[0,2,13,2...|[0.00349357092511...|\n",
            "|      2115|440113920392843860|Nice accommodatio...|[nice, accommodat...|[Nice accommodati...|[nice, accommodat...|(262144,[4,16,66,...|(262144,[4,16,66,...|[0.00253958984745...|\n",
            "|      2115|485753927877829647|This the second t...|[second, time, st...|[second time, vis...|[second, time, st...|(262144,[0,2,21,2...|(262144,[0,2,21,2...|[0.00116048204748...|\n",
            "+----------+------------------+--------------------+--------------------+--------------------+--------------------+--------------------+--------------------+--------------------+\n",
            "only showing top 20 rows\n",
            "\n"
          ]
        }
      ]
    },
    {
      "cell_type": "markdown",
      "source": [
        "Here are the data types present in the dataset..."
      ],
      "metadata": {
        "id": "_GujRCsYHnND"
      }
    },
    {
      "cell_type": "code",
      "source": [
        "transformed.dtypes"
      ],
      "metadata": {
        "colab": {
          "base_uri": "https://localhost:8080/"
        },
        "id": "L2wbLWknObVz",
        "outputId": "bebf93cd-806f-44de-e014-0a2e9f57010e"
      },
      "execution_count": null,
      "outputs": [
        {
          "output_type": "execute_result",
          "data": {
            "text/plain": [
              "[('listing_id', 'bigint'),\n",
              " ('id', 'bigint'),\n",
              " ('comments', 'string'),\n",
              " ('finished_unigrams', 'array<string>'),\n",
              " ('finished_ngrams', 'array<string>'),\n",
              " ('final', 'array<string>'),\n",
              " ('tf_features', 'vector'),\n",
              " ('tf_idf_features', 'vector'),\n",
              " ('topicDistribution', 'vector')]"
            ]
          },
          "metadata": {},
          "execution_count": 38
        }
      ]
    },
    {
      "cell_type": "markdown",
      "source": [
        "Lets say I want to piece out how to see which topics are prominent for each document (in this case we would be looking at individual reviews). The following code splits our vector array of topicDistribution across documents instead of across words. Now I can see the topic loadings for each document id. This information can be valuable for other testing.\n",
        "\n",
        "*Note: Make sure you adjust the documentTopics_df to reflect the number of topics that you have in your model.*"
      ],
      "metadata": {
        "id": "JkdPA1KKB221"
      }
    },
    {
      "cell_type": "code",
      "source": [
        "from pyspark.ml.feature import VectorAssembler\n",
        "\n",
        "docTopDF = transformed.select(\"listing_id\",\"topicDistribution\")\n",
        "\n",
        "def extract(row):\n",
        "    return (row.listing_id,) + tuple(row.topicDistribution.toArray().tolist())\n",
        "\n",
        "documentTopics_df = docTopDF.rdd.map(extract).toDF([\"listing_id\", \"topic1\",\"topic2\",\"topic3\",\"topic4\", \"topic5\",\"topic6\"])\n",
        "documentTopics_df.show()\n"
      ],
      "metadata": {
        "colab": {
          "base_uri": "https://localhost:8080/"
        },
        "id": "9CWCJom3BB7v",
        "outputId": "380314fb-0178-4a0e-8645-2553478a332e"
      },
      "execution_count": null,
      "outputs": [
        {
          "output_type": "stream",
          "name": "stdout",
          "text": [
            "+----------+--------------------+--------------------+--------------------+--------------------+--------------------+--------------------+--------------------+--------------------+--------------------+--------------------+--------------------+--------------------+\n",
            "|listing_id|              topic1|              topic2|              topic3|              topic4|              topic5|              topic6|                  _8|                  _9|                 _10|                 _11|                 _12|                 _13|\n",
            "+----------+--------------------+--------------------+--------------------+--------------------+--------------------+--------------------+--------------------+--------------------+--------------------+--------------------+--------------------+--------------------+\n",
            "|      2115|0.002928448396374069|  0.9672976924422788|0.002888965872050...|0.002873110372635...|0.002931793444692...|0.002908923655454...|0.003562068215103944|0.002919476169175...|0.002912029954357328|0.002914287772714...|0.002904606427787797|0.002958597277375001|\n",
            "|      2115|0.058884616166338534|5.167202975687837E-4|4.379292081156703E-4|4.355254144895298...|4.444207097177299...|4.409582311510099E-4|  0.8980811663639368|4.425546904207266...|4.414250069634361E-4|4.417682018760135...|4.402996010126823E-4| 0.03899261610840915|\n",
            "|      2115|0.002032765626755...|  0.3355479797296237|0.002005349999998...|0.001994345857469...|0.002035078889434...|0.002019202563478...|  0.6442245611153973|0.002026531093638...|0.002021367042209759| 0.00202292524535968|0.002016207211392...|0.002053685625241304|\n",
            "|      2115|2.948689139415598...| 0.09644138041801625|2.908936713896294E-4|2.892972617145141E-4|2.952061105977303E-4|2.929031396962363...|  0.8707297044053004|2.939656178282053E-4|2.932161666714073...|2.934432150458852...|2.924685281505523E-4|0.030192652551647572|\n",
            "|      2115|7.265555220272196E-4|  0.5550447631660029|7.167597277979762E-4| 0.14424352523842845|7.273843990063701E-4|7.217108553250165E-4| 0.16928655389648667|7.243301383108764E-4|7.224824459350732E-4| 0.12563125414060133|7.206396076382908E-4|7.340408624398434E-4|\n",
            "|      2115|1.514288595128555...|  0.1579672354611587|  0.0563570707188478|1.485670925382433...|1.516019899224628...|1.504190037832118E-4|  0.5726435968356249|1.509647555166797E-4|1.505802714896998...|1.506973923362641...|1.501960272959327...| 0.21182764159197318|\n",
            "|      2115|6.647132450334822E-4|  0.7075127351902067|6.557509701831431E-4|6.521504117731998E-4|6.654731511492917E-4| 6.60281302187093E-4|8.085617261403496E-4|6.626746754096461E-4|6.609850036951597E-4| 6.61495844166049E-4|6.593006505713607E-4| 0.28573587782948445|\n",
            "|      2115|9.407453665386862E-4| 0.07417779729714964|9.280568433229625E-4|9.229635117795096E-4|9.418150354180886E-4|9.344695753083348E-4|  0.7497219505134177|9.378575228683715E-4|9.354667686010884E-4|9.361912353317725E-4|9.330818289720592E-4| 0.16768960450129172|\n",
            "|      2115|0.003389517732160628|  0.9621486391781734|0.003343827476787921|0.003325473600039932|0.003393394019306...|0.003366922800872585|0.004122944068603101|0.003379140416470736|0.003370521272238209|0.003373132819410177|0.003361926888582...|0.003424559727354...|\n",
            "|      2115|4.933297911873767E-4|   0.858108154596489| 4.86674573080966E-4|4.840047421491199E-4| 4.93891402008538E-4|4.900368065558226E-4| 0.13698286746518032|4.918157417870233E-4|4.905611161738629E-4|4.909398558181029E-4|4.893126411942678E-4|4.984112683759653E-4|\n",
            "|      2115|0.001786623866834...| 0.33354419152425785|0.001762535476883...|0.001752860171735...|0.001788661363922...|0.001774710333317...|0.002173259912927...|0.001781146511251...|0.001776606127626...|0.001777982193167...|0.001772075294131...|  0.6483093472239426|\n",
            "|      2115|0.001575108969919...|0.001833445679807624|0.001553877933532739|0.001545346932592...|0.001576908790393906|0.001564611780826152|  0.8414598694488876|0.001570284852021532|0.001566281390572519|0.001567498161700...|0.001562295640894083|  0.1426244704188507|\n",
            "|      2115|7.027520805832138E-4|  0.4767327189031726|6.932780523720192E-4| 6.89474818947105E-4|7.035550608471865E-4| 6.98067370488168E-4| 0.22021791273326366|  0.2967570454748649|6.988227798601066E-4| 6.99354483214389E-4|6.970311515347101E-4| 7.09987090852146E-4|\n",
            "|      2115|0.001755642479788...|0.002043566514864...|  0.5315244441476348|0.001722467029147...|0.001757647192246...|0.001743941502718...|  0.2348849868184626|0.001750266059456...|0.001745804637894...|0.001747152733334...|0.001741349787259...| 0.21758273109719223|\n",
            "|      2115|4.966202717706732E-4|5.780881959851987E-4|4.899249665046353E-4|4.872358085959763...|4.971874767214512E-4| 4.93308827181099E-4|  0.5145765892452427|4.950981377659331E-4|4.938356616308523E-4| 0.13433033109715958|4.925768674596448E-4| 0.34656920344398223|\n",
            "|      2115|0.004343741081080867|0.005056224761461637|0.004285181620627278|0.004261662703228605|0.004348706926691549|0.004314781872478857|   0.329358725426678|0.004330436913957156|0.004319395930762314|0.004322742902863703|  0.6266699286998964|0.004388471160273...|\n",
            "|      2115|0.001057983796648...|0.001231468127800...|0.001043721570492...|0.001038008384331...|0.001059193060676...|0.001050930251917...|  0.9882407775202182|0.001054745913377936|0.001052054780803...|0.001052868290553...|0.001049371633369017|0.001068876669808...|\n",
            "|      2115|0.003493570925119063|0.004066473124084066|  0.0034464720497292|0.003427558321292235|0.003497560347192...|0.003470286793338966|  0.9611698849694555|0.003482869107829866|0.003473983315217...| 0.00347667652590911|0.003465124141852...|0.003529540378979...|\n",
            "|      2115|0.002539589847458052|  0.9716399072850477|0.002505353881551...|0.002491604377042...|0.002542496652300...|0.002522662641159379|0.003089235209615277|0.002531811728294831|0.002525359906511561|0.002527314616903258|0.002518919311874...|0.002565744542241...|\n",
            "|      2115|0.001160482047487...|0.001350797022491...|0.001144836729143...|0.001138554260330...|0.001161808774435...|0.001152746762822...|  0.7440754981265478|0.001156929086884...|0.001153977233446...|0.001154873967815...|0.001151035998883...| 0.24419845998971113|\n",
            "+----------+--------------------+--------------------+--------------------+--------------------+--------------------+--------------------+--------------------+--------------------+--------------------+--------------------+--------------------+--------------------+\n",
            "only showing top 20 rows\n",
            "\n"
          ]
        }
      ]
    },
    {
      "cell_type": "markdown",
      "source": [
        "This is a way to see the avg topic loading for each Listed house. So that maybe I could make some inferences about different listings or tag them with key words for people to search the AirBnB site."
      ],
      "metadata": {
        "id": "q8rI1L4tHBAG"
      }
    },
    {
      "cell_type": "code",
      "source": [
        "averages_df = documentTopics_df.groupBy(\"listing_id\").avg(\"topic1\", \"topic2\", \"topic3\",\"topic4\",\"topic5\",\"topic6\")\n",
        "averages_df.show(12)\n"
      ],
      "metadata": {
        "colab": {
          "base_uri": "https://localhost:8080/"
        },
        "id": "2f54ADXYUPVB",
        "outputId": "0498eb28-c6a7-49f9-d21c-ee51eaab8fa1"
      },
      "execution_count": null,
      "outputs": [
        {
          "output_type": "stream",
          "name": "stdout",
          "text": [
            "+----------+--------------------+--------------------+--------------------+--------------------+--------------------+--------------------+\n",
            "|listing_id|         avg(topic1)|         avg(topic2)|         avg(topic3)|         avg(topic4)|         avg(topic5)|         avg(topic6)|\n",
            "+----------+--------------------+--------------------+--------------------+--------------------+--------------------+--------------------+\n",
            "|    787999| 0.03625122919962838| 0.18961550082501993|0.004817814543117574|0.050323079921508904| 0.05714501398016065| 0.06243966599876444|\n",
            "|   1653068| 0.03327099081713808|  0.3462230039043023|0.001122587775393...|0.001116426123185696|0.007158165432324713|0.001130342083005792|\n",
            "|   8561911|0.016966638167720986| 0.41341112606195923|0.001492076877305...| 0.03440157294584084| 0.04069876344985664|0.023231144982028596|\n",
            "|   9778785| 0.04405290040475174| 0.24386798661862955|0.001070945027303...| 0.04807937776223887| 0.02854132656274868|0.002789101099265447|\n",
            "|   9964925|0.007154538314434508|  0.4549479150189568|0.025294040018200376|0.019060344711383913| 0.02153086205146007|0.022238585235881486|\n",
            "|  14903425|0.023364593279777125| 0.06035355317617911|0.021519945377186035| 0.06892212140780632|0.001640306570539...|0.011253042351708369|\n",
            "|  16033104|7.870443542634921E-4|  0.6484653338210381|7.764333023154995E-4|7.721721281974226E-4|  0.1507029150153945| 0.05691533715727507|\n",
            "|  19103793|0.015139573321956768| 0.48903620471832526| 0.02190169331766448|0.011941897186156491| 0.03249988050046928|0.012700431451610652|\n",
            "|  21331745|0.019014176759966226| 0.38884715286644017|0.005277326950306493|0.016566257786449625| 0.01656143318723413|0.017342722581639283|\n",
            "|  21438238| 0.03777340456624856|  0.4267563188196064|0.003338830764836...|0.007157260231003064|0.008913981994197621| 0.01292796104375359|\n",
            "|  21932160|0.001482969033788...|0.001726166065976...|0.001462978544802...|  0.3844993984186295|0.001484664396792...|0.001473084763591037|\n",
            "|  22167678|0.005960259695380835|  0.9334412923943725|0.005879903214072134|0.005847634718886044|0.005967077598189707|0.005920551382107177|\n",
            "+----------+--------------------+--------------------+--------------------+--------------------+--------------------+--------------------+\n",
            "only showing top 12 rows\n",
            "\n"
          ]
        }
      ]
    },
    {
      "cell_type": "code",
      "source": [
        "averages_df.filter(averages_df.listing_id=='1078').show()\n"
      ],
      "metadata": {
        "colab": {
          "base_uri": "https://localhost:8080/"
        },
        "id": "r_GkuUcfaly4",
        "outputId": "25f4f591-9fe9-43f6-8280-d28406fdcefb"
      },
      "execution_count": null,
      "outputs": [
        {
          "output_type": "stream",
          "name": "stdout",
          "text": [
            "+----------+-----------+-----------+-----------+-----------+-----------+-----------+\n",
            "|listing_id|avg(topic1)|avg(topic2)|avg(topic3)|avg(topic4)|avg(topic5)|avg(topic6)|\n",
            "+----------+-----------+-----------+-----------+-----------+-----------+-----------+\n",
            "+----------+-----------+-----------+-----------+-----------+-----------+-----------+\n",
            "\n"
          ]
        }
      ]
    },
    {
      "cell_type": "markdown",
      "source": [
        "# Going Further\n",
        "\n",
        "Now we can add another application to our understanding of the dataset and see if the topics being discussed can be used to predict whether or not the host is a superhost. We will use the RandomForestClassifier from the included pyspark ml library.\n",
        "\n",
        "This next code loads up the expanded **listings.csv** from insideairbnb that was used for HW #2 (It is okay if you have to change to an English speaking city)"
      ],
      "metadata": {
        "id": "a3tLi0lBO-Rr"
      }
    },
    {
      "cell_type": "code",
      "source": [
        "listingsDF =spark.read.options(mode='FAILFAST',\n",
        "                              header = True,\n",
        "                              multiLine=True,\n",
        "                              inferSchema=True,\n",
        "                              escape='\"').csv(\"/content/listings.csv\") #You will need to replace this with your file path"
      ],
      "metadata": {
        "id": "CC_ys25TF5K5"
      },
      "execution_count": null,
      "outputs": []
    },
    {
      "cell_type": "code",
      "source": [
        "listingsDF = listingsDF.select(\"id\",\"host_name\",\"host_is_superhost\",\"number_of_reviews\", \"review_scores_rating\", \"price\")\n"
      ],
      "metadata": {
        "id": "plJKKJhQH_fB"
      },
      "execution_count": null,
      "outputs": []
    },
    {
      "cell_type": "markdown",
      "source": [
        "Here we are combining our '**listingsDF**' with the '**documentTopics_df**' that we made at the end of the LDA topic modeling. This is a join in pyspark that will combine the two dataframes by an id column.\n",
        "\n",
        "For this particular join, we have a duplicate column name ('*id*') in both dataframes but we want to keep the one in the documentTopics_df and will drop the one in listingsDF"
      ],
      "metadata": {
        "id": "0awOdX7DP2WP"
      }
    },
    {
      "cell_type": "code",
      "source": [
        "totalsDF = documentTopics_df.join(listingsDF,documentTopics_df.listing_id == listingsDF.id).drop(listingsDF.id)\n",
        "totalsDF.show(truncate=True)"
      ],
      "metadata": {
        "colab": {
          "base_uri": "https://localhost:8080/"
        },
        "id": "UyacSOEY0e3K",
        "outputId": "4bfdd060-8da4-43e5-b821-0935d2e3374d"
      },
      "execution_count": null,
      "outputs": [
        {
          "output_type": "stream",
          "name": "stdout",
          "text": [
            "+----------+--------------------+--------------------+--------------------+--------------------+--------------------+--------------------+--------------------+--------------------+--------------------+--------------------+--------------------+--------------------+---------+-----------------+-----------------+--------------------+-------+\n",
            "|listing_id|              topic1|              topic2|              topic3|              topic4|              topic5|              topic6|                  _8|                  _9|                 _10|                 _11|                 _12|                 _13|host_name|host_is_superhost|number_of_reviews|review_scores_rating|  price|\n",
            "+----------+--------------------+--------------------+--------------------+--------------------+--------------------+--------------------+--------------------+--------------------+--------------------+--------------------+--------------------+--------------------+---------+-----------------+-----------------+--------------------+-------+\n",
            "|      2115|0.002928448396374069|  0.9672976924422788|0.002888965872050...|0.002873110372635...|0.002931793444692...|0.002908923655454...|0.003562068215103944|0.002919476169175...|0.002912029954357328|0.002914287772714...|0.002904606427787797|0.002958597277375001|    Helen|                t|              157|                4.97|$142.00|\n",
            "|      2115|0.058884616166338534|5.167202975687837E-4|4.379292081156703E-4|4.355254144895298...|4.444207097177299...|4.409582311510099E-4|  0.8980811663639368|4.425546904207266...|4.414250069634361E-4|4.417682018760135...|4.402996010126823E-4| 0.03899261610840915|    Helen|                t|              157|                4.97|$142.00|\n",
            "|      2115|0.002032765626755...|  0.3355479797296237|0.002005349999998...|0.001994345857469...|0.002035078889434...|0.002019202563478...|  0.6442245611153973|0.002026531093638...|0.002021367042209759| 0.00202292524535968|0.002016207211392...|0.002053685625241304|    Helen|                t|              157|                4.97|$142.00|\n",
            "|      2115|2.948689139415598...| 0.09644138041801625|2.908936713896294E-4|2.892972617145141E-4|2.952061105977303E-4|2.929031396962363...|  0.8707297044053004|2.939656178282053E-4|2.932161666714073...|2.934432150458852...|2.924685281505523E-4|0.030192652551647572|    Helen|                t|              157|                4.97|$142.00|\n",
            "|      2115|7.265555220272196E-4|  0.5550447631660029|7.167597277979762E-4| 0.14424352523842845|7.273843990063701E-4|7.217108553250165E-4| 0.16928655389648667|7.243301383108764E-4|7.224824459350732E-4| 0.12563125414060133|7.206396076382908E-4|7.340408624398434E-4|    Helen|                t|              157|                4.97|$142.00|\n",
            "|      2115|1.514288595128555...|  0.1579672354611587|  0.0563570707188478|1.485670925382433...|1.516019899224628...|1.504190037832118E-4|  0.5726435968356249|1.509647555166797E-4|1.505802714896998...|1.506973923362641...|1.501960272959327...| 0.21182764159197318|    Helen|                t|              157|                4.97|$142.00|\n",
            "|      2115|6.647132450334822E-4|  0.7075127351902067|6.557509701831431E-4|6.521504117731998E-4|6.654731511492917E-4| 6.60281302187093E-4|8.085617261403496E-4|6.626746754096461E-4|6.609850036951597E-4| 6.61495844166049E-4|6.593006505713607E-4| 0.28573587782948445|    Helen|                t|              157|                4.97|$142.00|\n",
            "|      2115|9.407453665386862E-4| 0.07417779729714964|9.280568433229625E-4|9.229635117795096E-4|9.418150354180886E-4|9.344695753083348E-4|  0.7497219505134177|9.378575228683715E-4|9.354667686010884E-4|9.361912353317725E-4|9.330818289720592E-4| 0.16768960450129172|    Helen|                t|              157|                4.97|$142.00|\n",
            "|      2115|0.003389517732160628|  0.9621486391781734|0.003343827476787921|0.003325473600039932|0.003393394019306...|0.003366922800872585|0.004122944068603101|0.003379140416470736|0.003370521272238209|0.003373132819410177|0.003361926888582...|0.003424559727354...|    Helen|                t|              157|                4.97|$142.00|\n",
            "|      2115|4.933297911873767E-4|   0.858108154596489| 4.86674573080966E-4|4.840047421491199E-4| 4.93891402008538E-4|4.900368065558226E-4| 0.13698286746518032|4.918157417870233E-4|4.905611161738629E-4|4.909398558181029E-4|4.893126411942678E-4|4.984112683759653E-4|    Helen|                t|              157|                4.97|$142.00|\n",
            "|      2115|0.001786623866834...| 0.33354419152425785|0.001762535476883...|0.001752860171735...|0.001788661363922...|0.001774710333317...|0.002173259912927...|0.001781146511251...|0.001776606127626...|0.001777982193167...|0.001772075294131...|  0.6483093472239426|    Helen|                t|              157|                4.97|$142.00|\n",
            "|      2115|0.001575108969919...|0.001833445679807624|0.001553877933532739|0.001545346932592...|0.001576908790393906|0.001564611780826152|  0.8414598694488876|0.001570284852021532|0.001566281390572519|0.001567498161700...|0.001562295640894083|  0.1426244704188507|    Helen|                t|              157|                4.97|$142.00|\n",
            "|      2115|7.027520805832138E-4|  0.4767327189031726|6.932780523720192E-4| 6.89474818947105E-4|7.035550608471865E-4| 6.98067370488168E-4| 0.22021791273326366|  0.2967570454748649|6.988227798601066E-4| 6.99354483214389E-4|6.970311515347101E-4| 7.09987090852146E-4|    Helen|                t|              157|                4.97|$142.00|\n",
            "|      2115|0.001755642479788...|0.002043566514864...|  0.5315244441476348|0.001722467029147...|0.001757647192246...|0.001743941502718...|  0.2348849868184626|0.001750266059456...|0.001745804637894...|0.001747152733334...|0.001741349787259...| 0.21758273109719223|    Helen|                t|              157|                4.97|$142.00|\n",
            "|      2115|4.966202717706732E-4|5.780881959851987E-4|4.899249665046353E-4|4.872358085959763...|4.971874767214512E-4| 4.93308827181099E-4|  0.5145765892452427|4.950981377659331E-4|4.938356616308523E-4| 0.13433033109715958|4.925768674596448E-4| 0.34656920344398223|    Helen|                t|              157|                4.97|$142.00|\n",
            "|      2115|0.004343741081080867|0.005056224761461637|0.004285181620627278|0.004261662703228605|0.004348706926691549|0.004314781872478857|   0.329358725426678|0.004330436913957156|0.004319395930762314|0.004322742902863703|  0.6266699286998964|0.004388471160273...|    Helen|                t|              157|                4.97|$142.00|\n",
            "|      2115|0.001057983796648...|0.001231468127800...|0.001043721570492...|0.001038008384331...|0.001059193060676...|0.001050930251917...|  0.9882407775202182|0.001054745913377936|0.001052054780803...|0.001052868290553...|0.001049371633369017|0.001068876669808...|    Helen|                t|              157|                4.97|$142.00|\n",
            "|      2115|0.003493570925119063|0.004066473124084066|  0.0034464720497292|0.003427558321292235|0.003497560347192...|0.003470286793338966|  0.9611698849694555|0.003482869107829866|0.003473983315217...| 0.00347667652590911|0.003465124141852...|0.003529540378979...|    Helen|                t|              157|                4.97|$142.00|\n",
            "|      2115|0.002539589847458052|  0.9716399072850477|0.002505353881551...|0.002491604377042...|0.002542496652300...|0.002522662641159379|0.003089235209615277|0.002531811728294831|0.002525359906511561|0.002527314616903258|0.002518919311874...|0.002565744542241...|    Helen|                t|              157|                4.97|$142.00|\n",
            "|      2115|0.001160482047487...|0.001350797022491...|0.001144836729143...|0.001138554260330...|0.001161808774435...|0.001152746762822...|  0.7440754981265478|0.001156929086884...|0.001153977233446...|0.001154873967815...|0.001151035998883...| 0.24419845998971113|    Helen|                t|              157|                4.97|$142.00|\n",
            "+----------+--------------------+--------------------+--------------------+--------------------+--------------------+--------------------+--------------------+--------------------+--------------------+--------------------+--------------------+--------------------+---------+-----------------+-----------------+--------------------+-------+\n",
            "only showing top 20 rows\n",
            "\n"
          ]
        }
      ]
    },
    {
      "cell_type": "markdown",
      "source": [
        "#Screenshot #4 -\n",
        "\n",
        "Here I am converting the *'host_is_superhost'* column into a 'dummy variable' where it will be a binary (1,0) column simplified to *'superhost*'. Take a screenshot of the show() call of the dataframe before going into the transformation for the RandomForest model.\n",
        "\n",
        "*Note: Again be mindful that transformations will take some computation time.*"
      ],
      "metadata": {
        "id": "YZ5Y1ee4QmwD"
      }
    },
    {
      "cell_type": "code",
      "source": [
        "from pyspark.ml.feature import StringIndexer\n",
        "totalsDF = StringIndexer(\n",
        "    inputCol='host_is_superhost',\n",
        "    outputCol='superhost',\n",
        "    handleInvalid='keep').fit(totalsDF).transform(totalsDF)\n",
        "\n",
        "totalsDF.show(5, truncate=True)"
      ],
      "metadata": {
        "colab": {
          "base_uri": "https://localhost:8080/"
        },
        "id": "2VHqkwACFn1J",
        "outputId": "4b313e57-6b9f-4cf1-8832-54d9eef96bf3"
      },
      "execution_count": null,
      "outputs": [
        {
          "output_type": "stream",
          "name": "stdout",
          "text": [
            "+----------+--------------------+--------------------+--------------------+--------------------+--------------------+--------------------+--------------------+--------------------+--------------------+--------------------+--------------------+--------------------+---------+-----------------+-----------------+--------------------+-------+---------+\n",
            "|listing_id|              topic1|              topic2|              topic3|              topic4|              topic5|              topic6|                  _8|                  _9|                 _10|                 _11|                 _12|                 _13|host_name|host_is_superhost|number_of_reviews|review_scores_rating|  price|superhost|\n",
            "+----------+--------------------+--------------------+--------------------+--------------------+--------------------+--------------------+--------------------+--------------------+--------------------+--------------------+--------------------+--------------------+---------+-----------------+-----------------+--------------------+-------+---------+\n",
            "|      2115|0.002928448396374069|  0.9672976924422788|0.002888965872050...|0.002873110372635...|0.002931793444692...|0.002908923655454...|0.003562068215103944|0.002919476169175...|0.002912029954357328|0.002914287772714...|0.002904606427787797|0.002958597277375001|    Helen|                t|              157|                4.97|$142.00|      0.0|\n",
            "|      2115|0.058884616166338534|5.167202975687837E-4|4.379292081156703E-4|4.355254144895298...|4.444207097177299...|4.409582311510099E-4|  0.8980811663639368|4.425546904207266...|4.414250069634361E-4|4.417682018760135...|4.402996010126823E-4| 0.03899261610840915|    Helen|                t|              157|                4.97|$142.00|      0.0|\n",
            "|      2115|0.002032765626755...|  0.3355479797296237|0.002005349999998...|0.001994345857469...|0.002035078889434...|0.002019202563478...|  0.6442245611153973|0.002026531093638...|0.002021367042209759| 0.00202292524535968|0.002016207211392...|0.002053685625241304|    Helen|                t|              157|                4.97|$142.00|      0.0|\n",
            "|      2115|2.948689139415598...| 0.09644138041801625|2.908936713896294E-4|2.892972617145141E-4|2.952061105977303E-4|2.929031396962363...|  0.8707297044053004|2.939656178282053E-4|2.932161666714073...|2.934432150458852...|2.924685281505523E-4|0.030192652551647572|    Helen|                t|              157|                4.97|$142.00|      0.0|\n",
            "|      2115|7.265555220272196E-4|  0.5550447631660029|7.167597277979762E-4| 0.14424352523842845|7.273843990063701E-4|7.217108553250165E-4| 0.16928655389648667|7.243301383108764E-4|7.224824459350732E-4| 0.12563125414060133|7.206396076382908E-4|7.340408624398434E-4|    Helen|                t|              157|                4.97|$142.00|      0.0|\n",
            "+----------+--------------------+--------------------+--------------------+--------------------+--------------------+--------------------+--------------------+--------------------+--------------------+--------------------+--------------------+--------------------+---------+-----------------+-----------------+--------------------+-------+---------+\n",
            "only showing top 5 rows\n",
            "\n"
          ]
        }
      ]
    },
    {
      "cell_type": "markdown",
      "source": [
        "Hre we are defining the independent variables that we are going to include into our RandomTreeClassifier model. You can decide to include additional variables from the listings.csv dataframe and build out a robust model but here I am only including the LDA discovered topics from the text of the reviews."
      ],
      "metadata": {
        "id": "dyofb7pFPrZw"
      }
    },
    {
      "cell_type": "code",
      "source": [
        "required_features = ['topic1','topic2','topic3','topic4','topic5','topic6'] # Make sure that you adjust this code to the number of topics that you have\n",
        "from pyspark.ml.feature import VectorAssembler\n",
        "assembler = VectorAssembler(inputCols=required_features, outputCol='features')\n",
        "transformed_data = assembler.transform(totalsDF)"
      ],
      "metadata": {
        "id": "OjSs7tZkE5jq"
      },
      "execution_count": null,
      "outputs": []
    },
    {
      "cell_type": "code",
      "source": [
        "(training_data, test_data) = transformed_data.randomSplit([0.8,0.2])\n"
      ],
      "metadata": {
        "id": "jtEr2wI7HiSD"
      },
      "execution_count": null,
      "outputs": []
    },
    {
      "cell_type": "code",
      "source": [
        "from pyspark.ml.classification import RandomForestClassifier\n",
        "rf = RandomForestClassifier(labelCol='superhost',\n",
        "                            featuresCol='features',\n",
        "                            maxDepth=5)"
      ],
      "metadata": {
        "id": "g3BlUKD4HiPP"
      },
      "execution_count": null,
      "outputs": []
    },
    {
      "cell_type": "markdown",
      "source": [
        "ON a large dataset be prepared for this to take awhile to run. Approximately an hour"
      ],
      "metadata": {
        "id": "2lcWZfEqLHL7"
      }
    },
    {
      "cell_type": "code",
      "source": [
        "model = rf.fit(training_data)\n"
      ],
      "metadata": {
        "id": "DMSegBXcHiF0"
      },
      "execution_count": null,
      "outputs": []
    },
    {
      "cell_type": "code",
      "source": [
        "predictions = model.transform(test_data)"
      ],
      "metadata": {
        "id": "cFxOnBT3IFwQ"
      },
      "execution_count": null,
      "outputs": []
    },
    {
      "cell_type": "code",
      "source": [
        "# Evaluate our model\n",
        "from pyspark.ml.evaluation import MulticlassClassificationEvaluator\n",
        "evaluator = MulticlassClassificationEvaluator(\n",
        "    labelCol='superhost',\n",
        "    predictionCol='prediction',\n",
        "    metricName='accuracy')"
      ],
      "metadata": {
        "id": "ZV5WxzyfIG0M"
      },
      "execution_count": null,
      "outputs": []
    },
    {
      "cell_type": "markdown",
      "source": [
        "#Screenshot  #5 -\n",
        "This is the printout of the accuracy of the model predicting whether or not the airbnb host is a superhost. Take a screenshot of the printout cell of your models test accuracy. Though this is not the end all, be all for evaluating a RandomForest Classifier, it is a helpful measure in seeing how useful your model is making a prediction."
      ],
      "metadata": {
        "id": "RbkhuQTGOKVQ"
      }
    },
    {
      "cell_type": "code",
      "source": [
        "accuracy = evaluator.evaluate(predictions)\n",
        "print('Test Accuracy = ', accuracy)"
      ],
      "metadata": {
        "id": "V3oFslpJIGwS",
        "colab": {
          "base_uri": "https://localhost:8080/"
        },
        "outputId": "38f31683-dfd7-4ff7-867b-f8ecf170b9be"
      },
      "execution_count": null,
      "outputs": [
        {
          "output_type": "stream",
          "name": "stdout",
          "text": [
            "Test Accuracy =  0.6381532185790662\n"
          ]
        }
      ]
    },
    {
      "cell_type": "markdown",
      "source": [
        "This is a code to look at the importance of features in the model when assisting the classification model. This can be an important component of our interpretation if we can look at different factors that really influence the predictions that we are making."
      ],
      "metadata": {
        "id": "A5kqf8knPKLy"
      }
    },
    {
      "cell_type": "code",
      "source": [
        "import pandas as pd\n",
        "featureImp = pd.DataFrame(\n",
        "list(zip(assembler.getInputCols(), model.featureImportances)),columns=[\"features\", \"importance\"])\n",
        "featureImp.sort_values(by=\"importance\", ascending=False)"
      ],
      "metadata": {
        "id": "kucnygRWIFkQ",
        "colab": {
          "base_uri": "https://localhost:8080/",
          "height": 237
        },
        "outputId": "35cb27b4-e9eb-44c0-95bb-12503913cdda"
      },
      "execution_count": null,
      "outputs": [
        {
          "output_type": "execute_result",
          "data": {
            "text/plain": [
              "  features  importance\n",
              "4   topic5    0.315685\n",
              "1   topic2    0.244289\n",
              "3   topic4    0.241637\n",
              "5   topic6    0.111872\n",
              "2   topic3    0.053231\n",
              "0   topic1    0.033286"
            ],
            "text/html": [
              "\n",
              "  <div id=\"df-f5ce7d71-1e83-487b-82be-e5b768c6a4de\" class=\"colab-df-container\">\n",
              "    <div>\n",
              "<style scoped>\n",
              "    .dataframe tbody tr th:only-of-type {\n",
              "        vertical-align: middle;\n",
              "    }\n",
              "\n",
              "    .dataframe tbody tr th {\n",
              "        vertical-align: top;\n",
              "    }\n",
              "\n",
              "    .dataframe thead th {\n",
              "        text-align: right;\n",
              "    }\n",
              "</style>\n",
              "<table border=\"1\" class=\"dataframe\">\n",
              "  <thead>\n",
              "    <tr style=\"text-align: right;\">\n",
              "      <th></th>\n",
              "      <th>features</th>\n",
              "      <th>importance</th>\n",
              "    </tr>\n",
              "  </thead>\n",
              "  <tbody>\n",
              "    <tr>\n",
              "      <th>4</th>\n",
              "      <td>topic5</td>\n",
              "      <td>0.315685</td>\n",
              "    </tr>\n",
              "    <tr>\n",
              "      <th>1</th>\n",
              "      <td>topic2</td>\n",
              "      <td>0.244289</td>\n",
              "    </tr>\n",
              "    <tr>\n",
              "      <th>3</th>\n",
              "      <td>topic4</td>\n",
              "      <td>0.241637</td>\n",
              "    </tr>\n",
              "    <tr>\n",
              "      <th>5</th>\n",
              "      <td>topic6</td>\n",
              "      <td>0.111872</td>\n",
              "    </tr>\n",
              "    <tr>\n",
              "      <th>2</th>\n",
              "      <td>topic3</td>\n",
              "      <td>0.053231</td>\n",
              "    </tr>\n",
              "    <tr>\n",
              "      <th>0</th>\n",
              "      <td>topic1</td>\n",
              "      <td>0.033286</td>\n",
              "    </tr>\n",
              "  </tbody>\n",
              "</table>\n",
              "</div>\n",
              "    <div class=\"colab-df-buttons\">\n",
              "\n",
              "  <div class=\"colab-df-container\">\n",
              "    <button class=\"colab-df-convert\" onclick=\"convertToInteractive('df-f5ce7d71-1e83-487b-82be-e5b768c6a4de')\"\n",
              "            title=\"Convert this dataframe to an interactive table.\"\n",
              "            style=\"display:none;\">\n",
              "\n",
              "  <svg xmlns=\"http://www.w3.org/2000/svg\" height=\"24px\" viewBox=\"0 -960 960 960\">\n",
              "    <path d=\"M120-120v-720h720v720H120Zm60-500h600v-160H180v160Zm220 220h160v-160H400v160Zm0 220h160v-160H400v160ZM180-400h160v-160H180v160Zm440 0h160v-160H620v160ZM180-180h160v-160H180v160Zm440 0h160v-160H620v160Z\"/>\n",
              "  </svg>\n",
              "    </button>\n",
              "\n",
              "  <style>\n",
              "    .colab-df-container {\n",
              "      display:flex;\n",
              "      gap: 12px;\n",
              "    }\n",
              "\n",
              "    .colab-df-convert {\n",
              "      background-color: #E8F0FE;\n",
              "      border: none;\n",
              "      border-radius: 50%;\n",
              "      cursor: pointer;\n",
              "      display: none;\n",
              "      fill: #1967D2;\n",
              "      height: 32px;\n",
              "      padding: 0 0 0 0;\n",
              "      width: 32px;\n",
              "    }\n",
              "\n",
              "    .colab-df-convert:hover {\n",
              "      background-color: #E2EBFA;\n",
              "      box-shadow: 0px 1px 2px rgba(60, 64, 67, 0.3), 0px 1px 3px 1px rgba(60, 64, 67, 0.15);\n",
              "      fill: #174EA6;\n",
              "    }\n",
              "\n",
              "    .colab-df-buttons div {\n",
              "      margin-bottom: 4px;\n",
              "    }\n",
              "\n",
              "    [theme=dark] .colab-df-convert {\n",
              "      background-color: #3B4455;\n",
              "      fill: #D2E3FC;\n",
              "    }\n",
              "\n",
              "    [theme=dark] .colab-df-convert:hover {\n",
              "      background-color: #434B5C;\n",
              "      box-shadow: 0px 1px 3px 1px rgba(0, 0, 0, 0.15);\n",
              "      filter: drop-shadow(0px 1px 2px rgba(0, 0, 0, 0.3));\n",
              "      fill: #FFFFFF;\n",
              "    }\n",
              "  </style>\n",
              "\n",
              "    <script>\n",
              "      const buttonEl =\n",
              "        document.querySelector('#df-f5ce7d71-1e83-487b-82be-e5b768c6a4de button.colab-df-convert');\n",
              "      buttonEl.style.display =\n",
              "        google.colab.kernel.accessAllowed ? 'block' : 'none';\n",
              "\n",
              "      async function convertToInteractive(key) {\n",
              "        const element = document.querySelector('#df-f5ce7d71-1e83-487b-82be-e5b768c6a4de');\n",
              "        const dataTable =\n",
              "          await google.colab.kernel.invokeFunction('convertToInteractive',\n",
              "                                                    [key], {});\n",
              "        if (!dataTable) return;\n",
              "\n",
              "        const docLinkHtml = 'Like what you see? Visit the ' +\n",
              "          '<a target=\"_blank\" href=https://colab.research.google.com/notebooks/data_table.ipynb>data table notebook</a>'\n",
              "          + ' to learn more about interactive tables.';\n",
              "        element.innerHTML = '';\n",
              "        dataTable['output_type'] = 'display_data';\n",
              "        await google.colab.output.renderOutput(dataTable, element);\n",
              "        const docLink = document.createElement('div');\n",
              "        docLink.innerHTML = docLinkHtml;\n",
              "        element.appendChild(docLink);\n",
              "      }\n",
              "    </script>\n",
              "  </div>\n",
              "\n",
              "\n",
              "<div id=\"df-f80c40a6-f885-4cbe-a403-064d1213d2eb\">\n",
              "  <button class=\"colab-df-quickchart\" onclick=\"quickchart('df-f80c40a6-f885-4cbe-a403-064d1213d2eb')\"\n",
              "            title=\"Suggest charts\"\n",
              "            style=\"display:none;\">\n",
              "\n",
              "<svg xmlns=\"http://www.w3.org/2000/svg\" height=\"24px\"viewBox=\"0 0 24 24\"\n",
              "     width=\"24px\">\n",
              "    <g>\n",
              "        <path d=\"M19 3H5c-1.1 0-2 .9-2 2v14c0 1.1.9 2 2 2h14c1.1 0 2-.9 2-2V5c0-1.1-.9-2-2-2zM9 17H7v-7h2v7zm4 0h-2V7h2v10zm4 0h-2v-4h2v4z\"/>\n",
              "    </g>\n",
              "</svg>\n",
              "  </button>\n",
              "\n",
              "<style>\n",
              "  .colab-df-quickchart {\n",
              "      --bg-color: #E8F0FE;\n",
              "      --fill-color: #1967D2;\n",
              "      --hover-bg-color: #E2EBFA;\n",
              "      --hover-fill-color: #174EA6;\n",
              "      --disabled-fill-color: #AAA;\n",
              "      --disabled-bg-color: #DDD;\n",
              "  }\n",
              "\n",
              "  [theme=dark] .colab-df-quickchart {\n",
              "      --bg-color: #3B4455;\n",
              "      --fill-color: #D2E3FC;\n",
              "      --hover-bg-color: #434B5C;\n",
              "      --hover-fill-color: #FFFFFF;\n",
              "      --disabled-bg-color: #3B4455;\n",
              "      --disabled-fill-color: #666;\n",
              "  }\n",
              "\n",
              "  .colab-df-quickchart {\n",
              "    background-color: var(--bg-color);\n",
              "    border: none;\n",
              "    border-radius: 50%;\n",
              "    cursor: pointer;\n",
              "    display: none;\n",
              "    fill: var(--fill-color);\n",
              "    height: 32px;\n",
              "    padding: 0;\n",
              "    width: 32px;\n",
              "  }\n",
              "\n",
              "  .colab-df-quickchart:hover {\n",
              "    background-color: var(--hover-bg-color);\n",
              "    box-shadow: 0 1px 2px rgba(60, 64, 67, 0.3), 0 1px 3px 1px rgba(60, 64, 67, 0.15);\n",
              "    fill: var(--button-hover-fill-color);\n",
              "  }\n",
              "\n",
              "  .colab-df-quickchart-complete:disabled,\n",
              "  .colab-df-quickchart-complete:disabled:hover {\n",
              "    background-color: var(--disabled-bg-color);\n",
              "    fill: var(--disabled-fill-color);\n",
              "    box-shadow: none;\n",
              "  }\n",
              "\n",
              "  .colab-df-spinner {\n",
              "    border: 2px solid var(--fill-color);\n",
              "    border-color: transparent;\n",
              "    border-bottom-color: var(--fill-color);\n",
              "    animation:\n",
              "      spin 1s steps(1) infinite;\n",
              "  }\n",
              "\n",
              "  @keyframes spin {\n",
              "    0% {\n",
              "      border-color: transparent;\n",
              "      border-bottom-color: var(--fill-color);\n",
              "      border-left-color: var(--fill-color);\n",
              "    }\n",
              "    20% {\n",
              "      border-color: transparent;\n",
              "      border-left-color: var(--fill-color);\n",
              "      border-top-color: var(--fill-color);\n",
              "    }\n",
              "    30% {\n",
              "      border-color: transparent;\n",
              "      border-left-color: var(--fill-color);\n",
              "      border-top-color: var(--fill-color);\n",
              "      border-right-color: var(--fill-color);\n",
              "    }\n",
              "    40% {\n",
              "      border-color: transparent;\n",
              "      border-right-color: var(--fill-color);\n",
              "      border-top-color: var(--fill-color);\n",
              "    }\n",
              "    60% {\n",
              "      border-color: transparent;\n",
              "      border-right-color: var(--fill-color);\n",
              "    }\n",
              "    80% {\n",
              "      border-color: transparent;\n",
              "      border-right-color: var(--fill-color);\n",
              "      border-bottom-color: var(--fill-color);\n",
              "    }\n",
              "    90% {\n",
              "      border-color: transparent;\n",
              "      border-bottom-color: var(--fill-color);\n",
              "    }\n",
              "  }\n",
              "</style>\n",
              "\n",
              "  <script>\n",
              "    async function quickchart(key) {\n",
              "      const quickchartButtonEl =\n",
              "        document.querySelector('#' + key + ' button');\n",
              "      quickchartButtonEl.disabled = true;  // To prevent multiple clicks.\n",
              "      quickchartButtonEl.classList.add('colab-df-spinner');\n",
              "      try {\n",
              "        const charts = await google.colab.kernel.invokeFunction(\n",
              "            'suggestCharts', [key], {});\n",
              "      } catch (error) {\n",
              "        console.error('Error during call to suggestCharts:', error);\n",
              "      }\n",
              "      quickchartButtonEl.classList.remove('colab-df-spinner');\n",
              "      quickchartButtonEl.classList.add('colab-df-quickchart-complete');\n",
              "    }\n",
              "    (() => {\n",
              "      let quickchartButtonEl =\n",
              "        document.querySelector('#df-f80c40a6-f885-4cbe-a403-064d1213d2eb button');\n",
              "      quickchartButtonEl.style.display =\n",
              "        google.colab.kernel.accessAllowed ? 'block' : 'none';\n",
              "    })();\n",
              "  </script>\n",
              "</div>\n",
              "\n",
              "    </div>\n",
              "  </div>\n"
            ],
            "application/vnd.google.colaboratory.intrinsic+json": {
              "type": "dataframe",
              "summary": "{\n  \"name\": \"featureImp\",\n  \"rows\": 6,\n  \"fields\": [\n    {\n      \"column\": \"features\",\n      \"properties\": {\n        \"dtype\": \"string\",\n        \"num_unique_values\": 6,\n        \"samples\": [\n          \"topic5\",\n          \"topic2\",\n          \"topic1\"\n        ],\n        \"semantic_type\": \"\",\n        \"description\": \"\"\n      }\n    },\n    {\n      \"column\": \"importance\",\n      \"properties\": {\n        \"dtype\": \"number\",\n        \"std\": 0.11620049817928685,\n        \"min\": 0.03328601085960824,\n        \"max\": 0.3156848068003797,\n        \"num_unique_values\": 6,\n        \"samples\": [\n          0.3156848068003797,\n          0.24428916380870266,\n          0.03328601085960824\n        ],\n        \"semantic_type\": \"\",\n        \"description\": \"\"\n      }\n    }\n  ]\n}"
            }
          },
          "metadata": {},
          "execution_count": 53
        }
      ]
    },
    {
      "cell_type": "markdown",
      "source": [
        "## Screenshot #6\n",
        "BONUS - Go through some of the John Snow Labs documentation and tutorials (https://nlp.johnsnowlabs.com/models?type=pipeline) and https://github.com/JohnSnowLabs/spark-nlp-workshop/tree/master/tutorials/Certification_Trainings/Public\n",
        "\n",
        "\n",
        "And apply a new technique to our dataset. You will have to write your own code here. You do not need a new dataset (not another city download) but a new analytics applied to the same dataset that you already have preloaded."
      ],
      "metadata": {
        "id": "LPcOTXkwpJ0R"
      }
    },
    {
      "cell_type": "code",
      "source": [],
      "metadata": {
        "id": "KODrj_Jxqimk"
      },
      "execution_count": null,
      "outputs": []
    }
  ]
}